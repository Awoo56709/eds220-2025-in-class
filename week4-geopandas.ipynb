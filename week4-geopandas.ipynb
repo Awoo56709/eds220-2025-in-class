{
 "cells": [
  {
   "cell_type": "markdown",
   "id": "b7322fe8",
   "metadata": {},
   "source": [
    "#geopandas\n",
    "\n",
    " Geopandas is a python library that extends 'pandas' by adding support for geospatial data\n",
    "\n",
    " ## Reproducible file paths"
   ]
  },
  {
   "cell_type": "code",
   "execution_count": null,
   "id": "fe301d22",
   "metadata": {},
   "outputs": [],
   "source": [
    "\n",
    "import os\n",
    "import matplotlib.pyplot as plt\n",
    "import geopandas as gpd"
   ]
  },
  {
   "cell_type": "code",
   "execution_count": null,
   "id": "a870d284",
   "metadata": {},
   "outputs": [
    {
     "data": {
      "text/plain": [
       "'data\\\\gbif_sus_scrofa_california'"
      ]
     },
     "execution_count": 2,
     "metadata": {},
     "output_type": "execute_result"
    }
   ],
   "source": [
    "\n",
    "fp = os.path.join('data','gbif_sus_scrofa_california')\n",
    "fp\n"
   ]
  },
  {
   "cell_type": "code",
   "execution_count": null,
   "id": "be3a841c",
   "metadata": {},
   "outputs": [
    {
     "data": {
      "text/html": [
       "<div>\n",
       "<style scoped>\n",
       "    .dataframe tbody tr th:only-of-type {\n",
       "        vertical-align: middle;\n",
       "    }\n",
       "\n",
       "    .dataframe tbody tr th {\n",
       "        vertical-align: top;\n",
       "    }\n",
       "\n",
       "    .dataframe thead th {\n",
       "        text-align: right;\n",
       "    }\n",
       "</style>\n",
       "<table border=\"1\" class=\"dataframe\">\n",
       "  <thead>\n",
       "    <tr style=\"text-align: right;\">\n",
       "      <th></th>\n",
       "      <th>gbifID</th>\n",
       "      <th>species</th>\n",
       "      <th>state</th>\n",
       "      <th>individual</th>\n",
       "      <th>day</th>\n",
       "      <th>month</th>\n",
       "      <th>year</th>\n",
       "      <th>inst</th>\n",
       "      <th>collection</th>\n",
       "      <th>catalogNum</th>\n",
       "      <th>identified</th>\n",
       "      <th>geometry</th>\n",
       "    </tr>\n",
       "  </thead>\n",
       "  <tbody>\n",
       "    <tr>\n",
       "      <th>0</th>\n",
       "      <td>899953814</td>\n",
       "      <td>Sus scrofa</td>\n",
       "      <td>California</td>\n",
       "      <td>NaN</td>\n",
       "      <td>22.0</td>\n",
       "      <td>3.0</td>\n",
       "      <td>2014.0</td>\n",
       "      <td>iNaturalist</td>\n",
       "      <td>Observations</td>\n",
       "      <td>581956</td>\n",
       "      <td>edwardrooks</td>\n",
       "      <td>POINT (-121.53812 37.08846)</td>\n",
       "    </tr>\n",
       "    <tr>\n",
       "      <th>1</th>\n",
       "      <td>899951348</td>\n",
       "      <td>Sus scrofa</td>\n",
       "      <td>California</td>\n",
       "      <td>NaN</td>\n",
       "      <td>9.0</td>\n",
       "      <td>6.0</td>\n",
       "      <td>2007.0</td>\n",
       "      <td>iNaturalist</td>\n",
       "      <td>Observations</td>\n",
       "      <td>576047</td>\n",
       "      <td>Bruce Freeman</td>\n",
       "      <td>POINT (-120.54942 35.47354)</td>\n",
       "    </tr>\n",
       "    <tr>\n",
       "      <th>2</th>\n",
       "      <td>896560733</td>\n",
       "      <td>Sus scrofa</td>\n",
       "      <td>California</td>\n",
       "      <td>NaN</td>\n",
       "      <td>20.0</td>\n",
       "      <td>12.0</td>\n",
       "      <td>1937.0</td>\n",
       "      <td>MVZ</td>\n",
       "      <td>Hild</td>\n",
       "      <td>MVZ:Hild:195</td>\n",
       "      <td>Museum of Vertebrate Zoology, University of Ca...</td>\n",
       "      <td>POINT (-122.27063 37.87610)</td>\n",
       "    </tr>\n",
       "    <tr>\n",
       "      <th>3</th>\n",
       "      <td>896559958</td>\n",
       "      <td>Sus scrofa</td>\n",
       "      <td>California</td>\n",
       "      <td>NaN</td>\n",
       "      <td>1.0</td>\n",
       "      <td>4.0</td>\n",
       "      <td>1969.0</td>\n",
       "      <td>MVZ</td>\n",
       "      <td>Hild</td>\n",
       "      <td>MVZ:Hild:1213</td>\n",
       "      <td>Museum of Vertebrate Zoology, University of Ca...</td>\n",
       "      <td>POINT (-121.82297 38.44543)</td>\n",
       "    </tr>\n",
       "    <tr>\n",
       "      <th>4</th>\n",
       "      <td>896559722</td>\n",
       "      <td>Sus scrofa</td>\n",
       "      <td>California</td>\n",
       "      <td>NaN</td>\n",
       "      <td>1.0</td>\n",
       "      <td>1.0</td>\n",
       "      <td>1961.0</td>\n",
       "      <td>MVZ</td>\n",
       "      <td>Hild</td>\n",
       "      <td>MVZ:Hild:1004</td>\n",
       "      <td>Museum of Vertebrate Zoology, University of Ca...</td>\n",
       "      <td>POINT (-121.74559 38.54882)</td>\n",
       "    </tr>\n",
       "  </tbody>\n",
       "</table>\n",
       "</div>"
      ],
      "text/plain": [
       "      gbifID     species       state  individual   day  month    year  \\\n",
       "0  899953814  Sus scrofa  California         NaN  22.0    3.0  2014.0   \n",
       "1  899951348  Sus scrofa  California         NaN   9.0    6.0  2007.0   \n",
       "2  896560733  Sus scrofa  California         NaN  20.0   12.0  1937.0   \n",
       "3  896559958  Sus scrofa  California         NaN   1.0    4.0  1969.0   \n",
       "4  896559722  Sus scrofa  California         NaN   1.0    1.0  1961.0   \n",
       "\n",
       "          inst    collection     catalogNum  \\\n",
       "0  iNaturalist  Observations         581956   \n",
       "1  iNaturalist  Observations         576047   \n",
       "2          MVZ          Hild   MVZ:Hild:195   \n",
       "3          MVZ          Hild  MVZ:Hild:1213   \n",
       "4          MVZ          Hild  MVZ:Hild:1004   \n",
       "\n",
       "                                          identified  \\\n",
       "0                                        edwardrooks   \n",
       "1                                      Bruce Freeman   \n",
       "2  Museum of Vertebrate Zoology, University of Ca...   \n",
       "3  Museum of Vertebrate Zoology, University of Ca...   \n",
       "4  Museum of Vertebrate Zoology, University of Ca...   \n",
       "\n",
       "                      geometry  \n",
       "0  POINT (-121.53812 37.08846)  \n",
       "1  POINT (-120.54942 35.47354)  \n",
       "2  POINT (-122.27063 37.87610)  \n",
       "3  POINT (-121.82297 38.44543)  \n",
       "4  POINT (-121.74559 38.54882)  "
      ]
     },
     "execution_count": 21,
     "metadata": {},
     "output_type": "execute_result"
    }
   ],
   "source": [
    "#looking at the data in pigs\n",
    "pigs = gpd.read_file(fp)\n",
    "pigs.head()"
   ]
  },
  {
   "cell_type": "code",
   "execution_count": null,
   "id": "e3a65657",
   "metadata": {},
   "outputs": [],
   "source": [
    "\n",
    "# Check in #1\n",
    "#importing the shapefile\n",
    "shp_file = os.path.join('data','ca_state_boundary')\n",
    "cali = gpd.read_file(shp_file)\n"
   ]
  },
  {
   "cell_type": "code",
   "execution_count": null,
   "id": "640cd920",
   "metadata": {},
   "outputs": [
    {
     "data": {
      "text/html": [
       "<div>\n",
       "<style scoped>\n",
       "    .dataframe tbody tr th:only-of-type {\n",
       "        vertical-align: middle;\n",
       "    }\n",
       "\n",
       "    .dataframe tbody tr th {\n",
       "        vertical-align: top;\n",
       "    }\n",
       "\n",
       "    .dataframe thead th {\n",
       "        text-align: right;\n",
       "    }\n",
       "</style>\n",
       "<table border=\"1\" class=\"dataframe\">\n",
       "  <thead>\n",
       "    <tr style=\"text-align: right;\">\n",
       "      <th></th>\n",
       "      <th>REGION</th>\n",
       "      <th>DIVISION</th>\n",
       "      <th>STATEFP</th>\n",
       "      <th>STATENS</th>\n",
       "      <th>GEOID</th>\n",
       "      <th>STUSPS</th>\n",
       "      <th>NAME</th>\n",
       "      <th>LSAD</th>\n",
       "      <th>MTFCC</th>\n",
       "      <th>FUNCSTAT</th>\n",
       "      <th>ALAND</th>\n",
       "      <th>AWATER</th>\n",
       "      <th>INTPTLAT</th>\n",
       "      <th>INTPTLON</th>\n",
       "      <th>geometry</th>\n",
       "    </tr>\n",
       "  </thead>\n",
       "  <tbody>\n",
       "    <tr>\n",
       "      <th>0</th>\n",
       "      <td>4</td>\n",
       "      <td>9</td>\n",
       "      <td>06</td>\n",
       "      <td>01779778</td>\n",
       "      <td>06</td>\n",
       "      <td>CA</td>\n",
       "      <td>California</td>\n",
       "      <td>00</td>\n",
       "      <td>G4000</td>\n",
       "      <td>A</td>\n",
       "      <td>403501101370</td>\n",
       "      <td>20466718403</td>\n",
       "      <td>+37.1551773</td>\n",
       "      <td>-119.5434183</td>\n",
       "      <td>MULTIPOLYGON (((-119.63473 33.26545, -119.6363...</td>\n",
       "    </tr>\n",
       "  </tbody>\n",
       "</table>\n",
       "</div>"
      ],
      "text/plain": [
       "  REGION DIVISION STATEFP   STATENS GEOID STUSPS        NAME LSAD  MTFCC  \\\n",
       "0      4        9      06  01779778    06     CA  California   00  G4000   \n",
       "\n",
       "  FUNCSTAT         ALAND       AWATER     INTPTLAT      INTPTLON  \\\n",
       "0        A  403501101370  20466718403  +37.1551773  -119.5434183   \n",
       "\n",
       "                                            geometry  \n",
       "0  MULTIPOLYGON (((-119.63473 33.26545, -119.6363...  "
      ]
     },
     "execution_count": 25,
     "metadata": {},
     "output_type": "execute_result"
    }
   ],
   "source": [
    "cali   "
   ]
  },
  {
   "cell_type": "markdown",
   "id": "1eb18d3d",
   "metadata": {},
   "source": [
    "## `Geoseries` and `GeoDataframe`\n",
    "`geopandas.GeoDataframe` = core structure in geopandas = 'panDAS.dATAFRAME' PLUSA A DEDICATED GEOMETRY\n",
    "COLUMN THAT CAN PERFORM SPATIAL OPS\n",
    "\n",
    "**Geometry column** holds the geometry of eacg spatial feature. The type of this columns is geopandas.dataframe\n"
   ]
  },
  {
   "cell_type": "code",
   "execution_count": null,
   "id": "013bf907",
   "metadata": {},
   "outputs": [
    {
     "name": "stdout",
     "output_type": "stream",
     "text": [
      "<class 'geopandas.geodataframe.GeoDataFrame'>\n"
     ]
    }
   ],
   "source": [
    "#checking type of data of pigs\n",
    "print(type(pigs))\n"
   ]
  },
  {
   "cell_type": "code",
   "execution_count": null,
   "id": "0bafea8f",
   "metadata": {},
   "outputs": [
    {
     "name": "stdout",
     "output_type": "stream",
     "text": [
      "<class 'geopandas.geoseries.GeoSeries'>\n"
     ]
    }
   ],
   "source": [
    "#checking the data type of the geom column\n",
    "print(type(pigs.geometry))\n"
   ]
  },
  {
   "cell_type": "code",
   "execution_count": null,
   "id": "2450930c",
   "metadata": {},
   "outputs": [
    {
     "name": "stdout",
     "output_type": "stream",
     "text": [
      "<class 'pandas.core.series.Series'>\n"
     ]
    }
   ],
   "source": [
    "#check the data type of the gbifID column\n",
    "print(type(pigs.gbifID))\n"
   ]
  },
  {
   "cell_type": "code",
   "execution_count": null,
   "id": "7cc3b9ca",
   "metadata": {},
   "outputs": [
    {
     "name": "stdout",
     "output_type": "stream",
     "text": [
      "gbifID           int64\n",
      "species         object\n",
      "state           object\n",
      "individual     float64\n",
      "day            float64\n",
      "month          float64\n",
      "year           float64\n",
      "inst            object\n",
      "collection      object\n",
      "catalogNum      object\n",
      "identified      object\n",
      "geometry      geometry\n",
      "dtype: object\n"
     ]
    }
   ],
   "source": [
    "#check the data type of each column\n",
    "print(pigs.dtypes)\n"
   ]
  },
  {
   "cell_type": "code",
   "execution_count": null,
   "id": "34f69645",
   "metadata": {},
   "outputs": [
    {
     "name": "stdout",
     "output_type": "stream",
     "text": [
      "<class 'geopandas.geodataframe.GeoDataFrame'>\n"
     ]
    }
   ],
   "source": [
    "#check-in number #2\n",
    "print(type(cali))\n"
   ]
  },
  {
   "cell_type": "code",
   "execution_count": null,
   "id": "028f2e2a",
   "metadata": {},
   "outputs": [
    {
     "data": {
      "text/plain": [
       "0    MultiPolygon\n",
       "dtype: object"
      ]
     },
     "execution_count": 26,
     "metadata": {},
     "output_type": "execute_result"
    }
   ],
   "source": [
    "cali.geom_type"
   ]
  },
  {
   "cell_type": "code",
   "execution_count": null,
   "id": "f7d2ae5e",
   "metadata": {},
   "outputs": [
    {
     "data": {
      "text/plain": [
       "<Geographic 2D CRS: EPSG:4326>\n",
       "Name: WGS 84\n",
       "Axis Info [ellipsoidal]:\n",
       "- Lat[north]: Geodetic latitude (degree)\n",
       "- Lon[east]: Geodetic longitude (degree)\n",
       "Area of Use:\n",
       "- name: World.\n",
       "- bounds: (-180.0, -90.0, 180.0, 90.0)\n",
       "Datum: World Geodetic System 1984 ensemble\n",
       "- Ellipsoid: WGS 84\n",
       "- Prime Meridian: Greenwich"
      ]
     },
     "execution_count": 10,
     "metadata": {},
     "output_type": "execute_result"
    }
   ],
   "source": [
    "#access the CRS of the GeoDataframe\n",
    "pigs.crs\n"
   ]
  },
  {
   "cell_type": "code",
   "execution_count": null,
   "id": "65910a7b",
   "metadata": {},
   "outputs": [
    {
     "name": "stdout",
     "output_type": "stream",
     "text": [
      "Ellipsoid:  WGS 84\n",
      "Datum:  World Geodetic System 1984 ensemble\n",
      "Is geographic?:  True\n",
      "Is projected?:  False\n"
     ]
    }
   ],
   "source": [
    "# Examine CRS details\n",
    "print('Ellipsoid: ', pigs.crs.ellipsoid)\n",
    "print('Datum: ', pigs.crs.datum)\n",
    "print('Is geographic?: ', pigs.crs.is_geographic)\n",
    "print('Is projected?: ', pigs.crs.is_projected)\n"
   ]
  },
  {
   "cell_type": "code",
   "execution_count": null,
   "id": "46ef1213",
   "metadata": {},
   "outputs": [
    {
     "data": {
      "text/plain": [
       "array([-124.29448 ,   32.593433, -115.4356  ,   40.934296])"
      ]
     },
     "execution_count": 12,
     "metadata": {},
     "output_type": "execute_result"
    }
   ],
   "source": [
    "# Obtain the geographic extent of the geo-dataframe\n",
    "pigs.total_bounds\n"
   ]
  },
  {
   "cell_type": "code",
   "execution_count": null,
   "id": "30376fc0",
   "metadata": {},
   "outputs": [
    {
     "data": {
      "text/plain": [
       "array([-124.48201686,   32.52883674, -114.13122248,   42.00950827])"
      ]
     },
     "execution_count": 13,
     "metadata": {},
     "output_type": "execute_result"
    }
   ],
   "source": [
    "# check-in #3\n",
    "# crs\n",
    "cali.crs\n",
    "# extent\n",
    "cali.total_bounds\n"
   ]
  },
  {
   "cell_type": "code",
   "execution_count": null,
   "id": "848e0f72",
   "metadata": {},
   "outputs": [
    {
     "data": {
      "text/plain": [
       "year\n",
       "1818.0     31\n",
       "1910.0      1\n",
       "1925.0      1\n",
       "1927.0      4\n",
       "1929.0      3\n",
       "         ... \n",
       "2019.0    101\n",
       "2020.0    159\n",
       "2021.0    164\n",
       "2022.0    185\n",
       "2023.0     98\n",
       "Name: count, Length: 61, dtype: int64"
      ]
     },
     "execution_count": 14,
     "metadata": {},
     "output_type": "execute_result"
    }
   ],
   "source": [
    "### Data Wrangling\n",
    "\n",
    "# examine pig observation by year\n",
    "pigs['year'].value_counts().sort_index()\n"
   ]
  },
  {
   "cell_type": "code",
   "execution_count": null,
   "id": "f270ceea",
   "metadata": {},
   "outputs": [
    {
     "data": {
      "text/html": [
       "<div>\n",
       "<style scoped>\n",
       "    .dataframe tbody tr th:only-of-type {\n",
       "        vertical-align: middle;\n",
       "    }\n",
       "\n",
       "    .dataframe tbody tr th {\n",
       "        vertical-align: top;\n",
       "    }\n",
       "\n",
       "    .dataframe thead th {\n",
       "        text-align: right;\n",
       "    }\n",
       "</style>\n",
       "<table border=\"1\" class=\"dataframe\">\n",
       "  <thead>\n",
       "    <tr style=\"text-align: right;\">\n",
       "      <th></th>\n",
       "      <th>gbifID</th>\n",
       "      <th>species</th>\n",
       "      <th>state</th>\n",
       "      <th>individual</th>\n",
       "      <th>day</th>\n",
       "      <th>month</th>\n",
       "      <th>year</th>\n",
       "      <th>inst</th>\n",
       "      <th>collection</th>\n",
       "      <th>catalogNum</th>\n",
       "      <th>identified</th>\n",
       "      <th>geometry</th>\n",
       "    </tr>\n",
       "  </thead>\n",
       "  <tbody>\n",
       "    <tr>\n",
       "      <th>61</th>\n",
       "      <td>4424675671</td>\n",
       "      <td>Sus scrofa</td>\n",
       "      <td>California</td>\n",
       "      <td>NaN</td>\n",
       "      <td>23.0</td>\n",
       "      <td>9.0</td>\n",
       "      <td>2023.0</td>\n",
       "      <td>iNaturalist</td>\n",
       "      <td>Observations</td>\n",
       "      <td>186357811</td>\n",
       "      <td>madamcoyote</td>\n",
       "      <td>POINT (-124.28580 40.32482)</td>\n",
       "    </tr>\n",
       "    <tr>\n",
       "      <th>62</th>\n",
       "      <td>4424357894</td>\n",
       "      <td>Sus scrofa</td>\n",
       "      <td>California</td>\n",
       "      <td>NaN</td>\n",
       "      <td>6.0</td>\n",
       "      <td>10.0</td>\n",
       "      <td>2023.0</td>\n",
       "      <td>iNaturalist</td>\n",
       "      <td>Observations</td>\n",
       "      <td>186474363</td>\n",
       "      <td>skullroy</td>\n",
       "      <td>POINT (-120.82724 35.34895)</td>\n",
       "    </tr>\n",
       "    <tr>\n",
       "      <th>63</th>\n",
       "      <td>4424357588</td>\n",
       "      <td>Sus scrofa</td>\n",
       "      <td>California</td>\n",
       "      <td>NaN</td>\n",
       "      <td>5.0</td>\n",
       "      <td>10.0</td>\n",
       "      <td>2023.0</td>\n",
       "      <td>iNaturalist</td>\n",
       "      <td>Observations</td>\n",
       "      <td>186333783</td>\n",
       "      <td>Brian Ahern</td>\n",
       "      <td>POINT (-121.71683 37.34602)</td>\n",
       "    </tr>\n",
       "    <tr>\n",
       "      <th>64</th>\n",
       "      <td>4424288359</td>\n",
       "      <td>Sus scrofa</td>\n",
       "      <td>California</td>\n",
       "      <td>NaN</td>\n",
       "      <td>7.0</td>\n",
       "      <td>10.0</td>\n",
       "      <td>2023.0</td>\n",
       "      <td>iNaturalist</td>\n",
       "      <td>Observations</td>\n",
       "      <td>186602594</td>\n",
       "      <td>Steph</td>\n",
       "      <td>POINT (-119.62832 37.28900)</td>\n",
       "    </tr>\n",
       "    <tr>\n",
       "      <th>65</th>\n",
       "      <td>4424285723</td>\n",
       "      <td>Sus scrofa</td>\n",
       "      <td>California</td>\n",
       "      <td>NaN</td>\n",
       "      <td>5.0</td>\n",
       "      <td>10.0</td>\n",
       "      <td>2023.0</td>\n",
       "      <td>iNaturalist</td>\n",
       "      <td>Observations</td>\n",
       "      <td>186479844</td>\n",
       "      <td>natleecrockett</td>\n",
       "      <td>POINT (-121.77317 37.50025)</td>\n",
       "    </tr>\n",
       "    <tr>\n",
       "      <th>...</th>\n",
       "      <td>...</td>\n",
       "      <td>...</td>\n",
       "      <td>...</td>\n",
       "      <td>...</td>\n",
       "      <td>...</td>\n",
       "      <td>...</td>\n",
       "      <td>...</td>\n",
       "      <td>...</td>\n",
       "      <td>...</td>\n",
       "      <td>...</td>\n",
       "      <td>...</td>\n",
       "      <td>...</td>\n",
       "    </tr>\n",
       "    <tr>\n",
       "      <th>727</th>\n",
       "      <td>2563540650</td>\n",
       "      <td>Sus scrofa</td>\n",
       "      <td>California</td>\n",
       "      <td>NaN</td>\n",
       "      <td>20.0</td>\n",
       "      <td>1.0</td>\n",
       "      <td>2020.0</td>\n",
       "      <td>iNaturalist</td>\n",
       "      <td>Observations</td>\n",
       "      <td>37804173</td>\n",
       "      <td>Eric</td>\n",
       "      <td>POINT (-121.98693 37.87490)</td>\n",
       "    </tr>\n",
       "    <tr>\n",
       "      <th>728</th>\n",
       "      <td>2563520717</td>\n",
       "      <td>Sus scrofa</td>\n",
       "      <td>California</td>\n",
       "      <td>NaN</td>\n",
       "      <td>17.0</td>\n",
       "      <td>1.0</td>\n",
       "      <td>2020.0</td>\n",
       "      <td>iNaturalist</td>\n",
       "      <td>Observations</td>\n",
       "      <td>37758359</td>\n",
       "      <td>Jacob Martin</td>\n",
       "      <td>POINT (-122.00615 37.80658)</td>\n",
       "    </tr>\n",
       "    <tr>\n",
       "      <th>729</th>\n",
       "      <td>2563516057</td>\n",
       "      <td>Sus scrofa</td>\n",
       "      <td>California</td>\n",
       "      <td>NaN</td>\n",
       "      <td>18.0</td>\n",
       "      <td>1.0</td>\n",
       "      <td>2020.0</td>\n",
       "      <td>iNaturalist</td>\n",
       "      <td>Observations</td>\n",
       "      <td>37741027</td>\n",
       "      <td>Anne Parsons</td>\n",
       "      <td>POINT (-121.67951 37.32578)</td>\n",
       "    </tr>\n",
       "    <tr>\n",
       "      <th>730</th>\n",
       "      <td>2563508248</td>\n",
       "      <td>Sus scrofa</td>\n",
       "      <td>California</td>\n",
       "      <td>NaN</td>\n",
       "      <td>18.0</td>\n",
       "      <td>1.0</td>\n",
       "      <td>2020.0</td>\n",
       "      <td>iNaturalist</td>\n",
       "      <td>Observations</td>\n",
       "      <td>37723068</td>\n",
       "      <td>Anne Parsons</td>\n",
       "      <td>POINT (-121.67664 37.32354)</td>\n",
       "    </tr>\n",
       "    <tr>\n",
       "      <th>733</th>\n",
       "      <td>2557763832</td>\n",
       "      <td>Sus scrofa</td>\n",
       "      <td>California</td>\n",
       "      <td>NaN</td>\n",
       "      <td>11.0</td>\n",
       "      <td>1.0</td>\n",
       "      <td>2020.0</td>\n",
       "      <td>iNaturalist</td>\n",
       "      <td>Observations</td>\n",
       "      <td>37507147</td>\n",
       "      <td>edwardrooks</td>\n",
       "      <td>POINT (-121.75315 37.20952)</td>\n",
       "    </tr>\n",
       "  </tbody>\n",
       "</table>\n",
       "<p>606 rows × 12 columns</p>\n",
       "</div>"
      ],
      "text/plain": [
       "         gbifID     species       state  individual   day  month    year  \\\n",
       "61   4424675671  Sus scrofa  California         NaN  23.0    9.0  2023.0   \n",
       "62   4424357894  Sus scrofa  California         NaN   6.0   10.0  2023.0   \n",
       "63   4424357588  Sus scrofa  California         NaN   5.0   10.0  2023.0   \n",
       "64   4424288359  Sus scrofa  California         NaN   7.0   10.0  2023.0   \n",
       "65   4424285723  Sus scrofa  California         NaN   5.0   10.0  2023.0   \n",
       "..          ...         ...         ...         ...   ...    ...     ...   \n",
       "727  2563540650  Sus scrofa  California         NaN  20.0    1.0  2020.0   \n",
       "728  2563520717  Sus scrofa  California         NaN  17.0    1.0  2020.0   \n",
       "729  2563516057  Sus scrofa  California         NaN  18.0    1.0  2020.0   \n",
       "730  2563508248  Sus scrofa  California         NaN  18.0    1.0  2020.0   \n",
       "733  2557763832  Sus scrofa  California         NaN  11.0    1.0  2020.0   \n",
       "\n",
       "            inst    collection catalogNum      identified  \\\n",
       "61   iNaturalist  Observations  186357811     madamcoyote   \n",
       "62   iNaturalist  Observations  186474363        skullroy   \n",
       "63   iNaturalist  Observations  186333783     Brian Ahern   \n",
       "64   iNaturalist  Observations  186602594           Steph   \n",
       "65   iNaturalist  Observations  186479844  natleecrockett   \n",
       "..           ...           ...        ...             ...   \n",
       "727  iNaturalist  Observations   37804173            Eric   \n",
       "728  iNaturalist  Observations   37758359    Jacob Martin   \n",
       "729  iNaturalist  Observations   37741027    Anne Parsons   \n",
       "730  iNaturalist  Observations   37723068    Anne Parsons   \n",
       "733  iNaturalist  Observations   37507147     edwardrooks   \n",
       "\n",
       "                        geometry  \n",
       "61   POINT (-124.28580 40.32482)  \n",
       "62   POINT (-120.82724 35.34895)  \n",
       "63   POINT (-121.71683 37.34602)  \n",
       "64   POINT (-119.62832 37.28900)  \n",
       "65   POINT (-121.77317 37.50025)  \n",
       "..                           ...  \n",
       "727  POINT (-121.98693 37.87490)  \n",
       "728  POINT (-122.00615 37.80658)  \n",
       "729  POINT (-121.67951 37.32578)  \n",
       "730  POINT (-121.67664 37.32354)  \n",
       "733  POINT (-121.75315 37.20952)  \n",
       "\n",
       "[606 rows x 12 columns]"
      ]
     },
     "execution_count": 15,
     "metadata": {},
     "output_type": "execute_result"
    }
   ],
   "source": [
    "# select data from 2020 onwards\n",
    "pigs_recent = pigs[pigs['year'] >= 2020]\n",
    "pigs_recent\n"
   ]
  },
  {
   "cell_type": "code",
   "execution_count": null,
   "id": "5195b95c",
   "metadata": {},
   "outputs": [
    {
     "name": "stdout",
     "output_type": "stream",
     "text": [
      "total number of observations:  1046\n"
     ]
    }
   ],
   "source": [
    "# check the length of the og dataframe\n",
    "print(\"total number of observations: \", len(pigs))\n"
   ]
  },
  {
   "cell_type": "code",
   "execution_count": null,
   "id": "754b25cb",
   "metadata": {},
   "outputs": [
    {
     "name": "stdout",
     "output_type": "stream",
     "text": [
      "total number of pig obervations since 2020 onwards  606\n"
     ]
    }
   ],
   "source": [
    "# check length of the recent dataframe\n",
    "print(\"total number of pig obervations since 2020 onwards \", len(pigs_recent))\n"
   ]
  },
  {
   "cell_type": "code",
   "execution_count": null,
   "id": "2aa22adb",
   "metadata": {},
   "outputs": [
    {
     "data": {
      "text/plain": [
       "<Axes: >"
      ]
     },
     "execution_count": 18,
     "metadata": {},
     "output_type": "execute_result"
    },
    {
     "data": {
      "image/png": "[encoded data removed]",
      "text/plain": [
       "<Figure size 640x480 with 1 Axes>"
      ]
     },
     "metadata": {},
     "output_type": "display_data"
    }
   ],
   "source": [
    "# plotting\n",
    "pigs_recent.plot()\n",
    "\n"
   ]
  },
  {
   "cell_type": "markdown",
   "id": "e72e6fbc",
   "metadata": {},
   "source": [
    "## 'matplotlib'\n",
    "\n",
    "we can interact with 'matplotlib' via its 'pyplot' interface\n",
    "\n",
    "Matplotliv graphs the data in a figure that can have one or more **axes. The axes isd only ythe area spercified by the axis and the y axis what is plotted in it. A figure can include multiple axis\n"
   ]
  },
  {
   "cell_type": "code",
   "execution_count": null,
   "id": "f3406f76",
   "metadata": {},
   "outputs": [
    {
     "data": {
      "image/png": "[encoded data removed]",
      "text/plain": [
       "<Figure size 640x480 with 1 Axes>"
      ]
     },
     "metadata": {},
     "output_type": "display_data"
    }
   ],
   "source": [
    "\n",
    "# Initialize empty figure (fig) and axis (ax)\n",
    "fig, ax = plt.subplots() #returns two objects, the fig and the axis\n",
    "\n",
    "# Display figure\n",
    "plt.show()"
   ]
  },
  {
   "cell_type": "markdown",
   "id": "5bae3315",
   "metadata": {},
   "source": [
    "### Adding a layer\n",
    "\n",
    "When ysing matplotlibm it can be useful to think of creating a plot as adding layers on an axis\n",
    "\n",
    "# Example\n",
    "\n",
    "The first layer we want to add to our axis is the pigs recent point data"
   ]
  },
  {
   "cell_type": "code",
   "execution_count": null,
   "id": "52c897aa",
   "metadata": {},
   "outputs": [
    {
     "ename": "NameError",
     "evalue": "name 'df' is not defined",
     "output_type": "error",
     "traceback": [
      "\u001b[31m---------------------------------------------------------------------------\u001b[39m",
      "\u001b[31mNameError\u001b[39m                                 Traceback (most recent call last)",
      "\u001b[36mCell\u001b[39m\u001b[36m \u001b[39m\u001b[32mIn[20]\u001b[39m\u001b[32m, line 5\u001b[39m\n\u001b[32m      2\u001b[39m fig, ax = plt.subplots()\n\u001b[32m      4\u001b[39m \u001b[38;5;66;03m# Plot df on the ax axis\u001b[39;00m\n\u001b[32m----> \u001b[39m\u001b[32m5\u001b[39m \u001b[43mdf\u001b[49m.plot(ax=ax,  \u001b[38;5;66;03m# Add plot to axis\u001b[39;00m\n\u001b[32m      6\u001b[39m )    \u001b[38;5;66;03m# Other arguments for plot function\u001b[39;00m\n\u001b[32m      8\u001b[39m \u001b[38;5;66;03m# Display figure\u001b[39;00m\n\u001b[32m      9\u001b[39m plt.show()\n",
      "\u001b[31mNameError\u001b[39m: name 'df' is not defined"
     ]
    },
    {
     "data": {
      "image/png": "[encoded data removed]",
      "text/plain": [
       "<Figure size 640x480 with 1 Axes>"
      ]
     },
     "metadata": {},
     "output_type": "display_data"
    }
   ],
   "source": [
    "# Initialize empty figure and axis\n",
    "fig, ax = plt.subplots()\n",
    "\n",
    "# Plot df on the ax axis\n",
    "pigs_recent(ax=ax,  # Add plot to axis\n",
    ")    # Other arguments for plot function\n",
    "\n",
    "# Display figure\n",
    "plt.show()"
   ]
  },
  {
   "cell_type": "code",
   "execution_count": null,
   "id": "86c287c5",
   "metadata": {},
   "outputs": [
    {
     "data": {
      "image/png": "[encoded data removed]",
      "text/plain": [
       "<Figure size 640x480 with 1 Axes>"
      ]
     },
     "metadata": {},
     "output_type": "display_data"
    }
   ],
   "source": [
    "# Initialize empyty figure and axis\n",
    "fig, ax = plt.subplots()\n",
    "\n",
    "# Add pigs point plot to our figure's axis\n",
    "pigs_recent.plot(ax=ax)\n",
    "\n",
    "# Display figure\n",
    "plt.show()"
   ]
  },
  {
   "cell_type": "markdown",
   "id": "9e0d143b",
   "metadata": {},
   "source": [
    "## Customization\n",
    "\n",
    "some customiation can be done directly in plot(), method of the dataframe "
   ]
  },
  {
   "cell_type": "code",
   "execution_count": null,
   "id": "db485f3f",
   "metadata": {},
   "outputs": [
    {
     "data": {
      "image/png": "[encoded data removed]",
      "text/plain": [
       "<Figure size 640x480 with 1 Axes>"
      ]
     },
     "metadata": {},
     "output_type": "display_data"
    }
   ],
   "source": [
    "# Initialize empty figure\n",
    "fig, ax = plt.subplots()\n",
    "\n",
    "# Add data to axis\n",
    "pigs_recent.plot(ax=ax,         # Add plot to axis\n",
    "                 alpha=0.5,     # Adjust transparency\n",
    "                 color='red'  # Update point color\n",
    "                 )\n",
    "\n",
    "# Update axis \n",
    "ax.set_title('Reported \"Sus scrofa\" sightings in CA (2020-2023)')\n",
    "ax.set_xlabel('Longitude')\n",
    "ax.set_ylabel('Latitude')\n",
    "\n",
    "# Display figure\n",
    "plt.show()"
   ]
  },
  {
   "cell_type": "code",
   "execution_count": null,
   "id": "09cc4812",
   "metadata": {},
   "outputs": [],
   "source": []
  },
  {
   "cell_type": "code",
   "execution_count": null,
   "id": "83ab3dcc",
   "metadata": {},
   "outputs": [
    {
     "data": {
      "image/png": "[encoded data removed]",
      "text/plain": [
       "<Figure size 640x480 with 1 Axes>"
      ]
     },
     "metadata": {},
     "output_type": "display_data"
    }
   ],
   "source": [
    "# Check-in #4\n",
    "\n",
    " # Initialize empty figure\n",
    "fig, ax = plt.subplots()\n",
    "\n",
    "# adding border data\n",
    "cali.plot(ax=ax,\n",
    "          edgecolor = \"black\",\n",
    "          facecolor=\"none\",\n",
    "          linewidth=1)\n",
    "\n",
    "\n",
    "# Add data to axis\n",
    "pigs_recent.plot(ax=ax,         # Add plot to axis\n",
    "                 alpha=0.5,     # Adjust transparency\n",
    "                 color='red'  # Update point color\n",
    "                 marker=\",\"\n",
    "                 )\n",
    "\n",
    "# Update axis \n",
    "ax.set_title('Reported \"Sus scrofa\" sightings in CA (2020-2023)')\n",
    "ax.set_xlabel('Longitude')\n",
    "ax.set_ylabel('Latitude')\n",
    "\n",
    "# adding text\n",
    "fig.text(0.5, 0.001,\n",
    "         'We see many of the observations within the central valley',\n",
    "         ha='center', fontsize = 10, style= 'italic')\n",
    "\n",
    "# Display figure\n",
    "plt.show()"
   ]
  },
  {
   "cell_type": "markdown",
   "id": "ddb0773e",
   "metadata": {},
   "source": [
    "\"Sus Scrofa\" sighting in California's Central Valley and Bay Area"
   ]
  },
  {
   "cell_type": "markdown",
   "id": "222bc8fa",
   "metadata": {},
   "source": [
    "Based on the graph above we can see many of these sighting are around the central valley and bar area. Some may not know what this species is as an identifyer. Moreo observations may be neat less populated areas and or areas claser to roads."
   ]
  }
 ],
 "metadata": {
  "kernelspec": {
   "display_name": "eds220-env",
   "language": "python",
   "name": "python3"
  },
  "language_info": {
   "codemirror_mode": {
    "name": "ipython",
    "version": 3
   },
   "file_extension": ".py",
   "mimetype": "text/x-python",
   "name": "python",
   "nbconvert_exporter": "python",
   "pygments_lexer": "ipython3",
   "version": "3.11.4"
  }
 },
 "nbformat": 4,
 "nbformat_minor": 5
}
