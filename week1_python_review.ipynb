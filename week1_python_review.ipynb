{
 "cells": [
  {
   "cell_type": "code",
   "execution_count": 2,
   "id": "1e72f680-af55-4483-b024-e49310a06f1c",
   "metadata": {
    "tags": []
   },
   "outputs": [],
   "source": [
    "#importing libraries\n",
    "import numpy as np"
   ]
  },
  {
   "cell_type": "code",
   "execution_count": 6,
   "id": "bd0edb55-1df9-4bac-b82e-3a9bddda9799",
   "metadata": {
    "tags": []
   },
   "outputs": [
    {
     "name": "stdout",
     "output_type": "stream",
     "text": [
      "[[1 2 3]\n",
      " [3 5 8]]\n"
     ]
    },
    {
     "data": {
      "text/plain": [
       "array([[1, 2, 3],\n",
       "       [3, 5, 8]])"
      ]
     },
     "execution_count": 6,
     "metadata": {},
     "output_type": "execute_result"
    }
   ],
   "source": [
    "# assign a small array to a var\n",
    "a = np.array([[1,2,3],[3,5,8]])\n",
    "print(a)\n",
    "a"
   ]
  },
  {
   "cell_type": "code",
   "execution_count": 8,
   "id": "0ecbfb66-2cce-494f-8729-775dbd9dc5f8",
   "metadata": {
    "tags": []
   },
   "outputs": [
    {
     "name": "stdout",
     "output_type": "stream",
     "text": [
      "[[1 2 3]\n",
      " [3 5 8]]\n"
     ]
    },
    {
     "data": {
      "text/plain": [
       "numpy.ndarray"
      ]
     },
     "execution_count": 8,
     "metadata": {},
     "output_type": "execute_result"
    }
   ],
   "source": [
    "print(a)\n",
    "type(a)"
   ]
  },
  {
   "cell_type": "code",
   "execution_count": 13,
   "id": "2b40ae51-85e0-4d89-b37e-d4ddecdf676b",
   "metadata": {
    "tags": []
   },
   "outputs": [
    {
     "name": "stdout",
     "output_type": "stream",
     "text": [
      "1\n"
     ]
    },
    {
     "data": {
      "text/plain": [
       "numpy.int64"
      ]
     },
     "execution_count": 13,
     "metadata": {},
     "output_type": "execute_result"
    }
   ],
   "source": [
    "print(a[0,0])\n",
    "type(a[0,0])"
   ]
  },
  {
   "cell_type": "code",
   "execution_count": 16,
   "id": "0e793906-f2d9-4581-a533-23bc2a02e6f4",
   "metadata": {
    "tags": []
   },
   "outputs": [
    {
     "name": "stdout",
     "output_type": "stream",
     "text": [
      "5\n"
     ]
    }
   ],
   "source": [
    "# how to access value 5 in array a?\n",
    "print(a[1,1])"
   ]
  },
  {
   "cell_type": "code",
   "execution_count": 17,
   "id": "626bb7be-287d-4ea9-b76f-d4a3a5f84b31",
   "metadata": {
    "tags": []
   },
   "outputs": [],
   "source": [
    "# Example of a function:\n",
    "\n",
    "def addition(num1, num2):\n",
    "    return num1 + num2"
   ]
  },
  {
   "cell_type": "code",
   "execution_count": 19,
   "id": "24b837b5-4a45-4770-b10d-7604b2c7b191",
   "metadata": {
    "tags": []
   },
   "outputs": [
    {
     "data": {
      "text/plain": [
       "10"
      ]
     },
     "execution_count": 19,
     "metadata": {},
     "output_type": "execute_result"
    }
   ],
   "source": [
    "result = addition(4,6)\n",
    "result"
   ]
  },
  {
   "cell_type": "code",
   "execution_count": 20,
   "id": "c03c09cc-dd52-4ce0-95cf-3e7d5728368b",
   "metadata": {
    "tags": []
   },
   "outputs": [
    {
     "data": {
      "text/plain": [
       "\u001b[0;31mSignature:\u001b[0m \u001b[0mprint\u001b[0m\u001b[0;34m(\u001b[0m\u001b[0;34m*\u001b[0m\u001b[0margs\u001b[0m\u001b[0;34m,\u001b[0m \u001b[0msep\u001b[0m\u001b[0;34m=\u001b[0m\u001b[0;34m' '\u001b[0m\u001b[0;34m,\u001b[0m \u001b[0mend\u001b[0m\u001b[0;34m=\u001b[0m\u001b[0;34m'\\n'\u001b[0m\u001b[0;34m,\u001b[0m \u001b[0mfile\u001b[0m\u001b[0;34m=\u001b[0m\u001b[0;32mNone\u001b[0m\u001b[0;34m,\u001b[0m \u001b[0mflush\u001b[0m\u001b[0;34m=\u001b[0m\u001b[0;32mFalse\u001b[0m\u001b[0;34m)\u001b[0m\u001b[0;34m\u001b[0m\u001b[0;34m\u001b[0m\u001b[0m\n",
       "\u001b[0;31mDocstring:\u001b[0m\n",
       "Prints the values to a stream, or to sys.stdout by default.\n",
       "\n",
       "sep\n",
       "  string inserted between values, default a space.\n",
       "end\n",
       "  string appended after the last value, default a newline.\n",
       "file\n",
       "  a file-like object (stream); defaults to the current sys.stdout.\n",
       "flush\n",
       "  whether to forcibly flush the stream.\n",
       "\u001b[0;31mType:\u001b[0m      builtin_function_or_method"
      ]
     },
     "metadata": {},
     "output_type": "display_data"
    }
   ],
   "source": [
    "#when we want to see more about a function we can use a question mark:\n",
    "?print"
   ]
  },
  {
   "cell_type": "code",
   "execution_count": 22,
   "id": "14412264-9fa6-41ef-a806-fa99e80f5d2c",
   "metadata": {
    "tags": []
   },
   "outputs": [
    {
     "name": "stdout",
     "output_type": "stream",
     "text": [
      "changing the default end arguement of the print fx -_-"
     ]
    }
   ],
   "source": [
    "print('changing the default end arguement of the print fx ', end = '-_-')"
   ]
  },
  {
   "cell_type": "markdown",
   "id": "07bce750-b9a2-4fe1-9f18-1fa4e65e0a62",
   "metadata": {},
   "source": [
    "## class fish\n",
    "\n",
    "### attributes:\n",
    "- length\n",
    "- fin width\n",
    "- weight\n",
    "\n",
    "### methods\n",
    "- eat()\n",
    "- breath()\n",
    "- swim"
   ]
  },
  {
   "cell_type": "code",
   "execution_count": 25,
   "id": "46fd6e50-e2c4-486d-88d0-4540bdde683c",
   "metadata": {
    "tags": []
   },
   "outputs": [
    {
     "data": {
      "text/plain": [
       "array([[1, 2, 3],\n",
       "       [4, 5, 6],\n",
       "       [7, 8, 9]])"
      ]
     },
     "execution_count": 25,
     "metadata": {},
     "output_type": "execute_result"
    }
   ],
   "source": [
    "var = np.array([[1,2,3],[4,5,6],[7,8,9]])\n",
    "var"
   ]
  },
  {
   "cell_type": "code",
   "execution_count": 28,
   "id": "b011ebdd-8e19-4569-aef7-d75f0952c487",
   "metadata": {
    "tags": []
   },
   "outputs": [
    {
     "name": "stdout",
     "output_type": "stream",
     "text": [
      "[[1 4 7]\n",
      " [2 5 8]\n",
      " [3 6 9]]\n",
      "<class 'numpy.ndarray'>\n"
     ]
    }
   ],
   "source": [
    "print(var.T)\n",
    "print(type(var.T))"
   ]
  },
  {
   "cell_type": "code",
   "execution_count": 32,
   "id": "d03ccfc6-72be-4a28-b188-300756dcf64e",
   "metadata": {
    "tags": []
   },
   "outputs": [
    {
     "name": "stdout",
     "output_type": "stream",
     "text": [
      "(3, 3)\n",
      "<class 'tuple'>\n"
     ]
    }
   ],
   "source": [
    "print(var.shape)\n",
    "print(type(var.shape))"
   ]
  },
  {
   "cell_type": "code",
   "execution_count": 33,
   "id": "624dd1d9-1808-4380-b609-cf6263cf8670",
   "metadata": {
    "tags": []
   },
   "outputs": [
    {
     "name": "stdout",
     "output_type": "stream",
     "text": [
      "2\n",
      "<class 'int'>\n"
     ]
    }
   ],
   "source": [
    "print(var.ndim)\n",
    "print(type(var.ndim))"
   ]
  },
  {
   "cell_type": "code",
   "execution_count": 38,
   "id": "33c12a4b-cb73-4041-a8d6-8c2fc09a8bd3",
   "metadata": {
    "tags": []
   },
   "outputs": [
    {
     "data": {
      "text/plain": [
       "array([1, 2, 3])"
      ]
     },
     "execution_count": 38,
     "metadata": {},
     "output_type": "execute_result"
    }
   ],
   "source": [
    "var.min(axis = 0)"
   ]
  },
  {
   "cell_type": "code",
   "execution_count": 42,
   "id": "b2c257a2-53ce-40ef-b31f-20e516565df1",
   "metadata": {
    "tags": []
   },
   "outputs": [
    {
     "data": {
      "text/plain": [
       "builtin_function_or_method"
      ]
     },
     "execution_count": 42,
     "metadata": {},
     "output_type": "execute_result"
    }
   ],
   "source": [
    "type(var.tolist)"
   ]
  },
  {
   "cell_type": "code",
   "execution_count": 41,
   "id": "de349645-da49-4a14-8c86-e73ebbfbf600",
   "metadata": {
    "tags": []
   },
   "outputs": [
    {
     "data": {
      "text/plain": [
       "builtin_function_or_method"
      ]
     },
     "execution_count": 41,
     "metadata": {},
     "output_type": "execute_result"
    }
   ],
   "source": [
    "type(var.min)"
   ]
  },
  {
   "cell_type": "markdown",
   "id": "b451b66c-9cc1-40d9-9fe3-1bbe67398892",
   "metadata": {},
   "source": [
    "# Summary\n",
    "- Following programming conventions (https://peps.python.org/pep-0008/#function-and-variable-names)\n",
    "- Use comments concisly and focus on the why you did this\n",
    "- assigning vs boolean\n",
    "- object is a bundle of properties and actions about something\n",
    "- variable is a name for a specific object\n",
    "- data types and how each can be processed differently or their limitations\n",
    "- packages are designed by people that have made assumptions, such as NumPy assining ints are int64\n",
    "- R indexes at 1 and Python 0\n",
    "- Functions use parameters and arguements. The parameters are the variable the function def accepts and the the argument is what is passed by the user.\n",
    "- Python is object oriented language and so learning about the classes of everything will help us learn about what code to use.\n",
    "- Attributes:\n",
    "    - name\n",
    "    - color\n",
    "    - age\n",
    "    - weight\n",
    "- Methods\n",
    "    - meow()\n",
    "    - nap()\n",
    "    - chase_laser()\n",
    "    - move_tail()\n",
    "    \n"
   ]
  }
 ],
 "metadata": {
  "kernelspec": {
   "display_name": "EDS220",
   "language": "python",
   "name": "eds220-env"
  },
  "language_info": {
   "codemirror_mode": {
    "name": "ipython",
    "version": 3
   },
   "file_extension": ".py",
   "mimetype": "text/x-python",
   "name": "python",
   "nbconvert_exporter": "python",
   "pygments_lexer": "ipython3",
   "version": "3.11.4"
  }
 },
 "nbformat": 4,
 "nbformat_minor": 5
}
